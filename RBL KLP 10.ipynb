{
 "cells": [
  {
   "cell_type": "markdown",
   "id": "fbdf0f4d-a9ab-462f-a989-a34449b31fe0",
   "metadata": {},
   "source": [
    "# Learning Polynomial using Jupyter Notebook\n",
    "*Write title of your work. Above title is only for example. Change it with yours. (Point: 5)*"
   ]
  },
  {
   "cell_type": "markdown",
   "id": "1c8ec36d-24f3-4685-8a89-b1708b068aed",
   "metadata": {},
   "source": [
    "## authors\n",
    "*Edit Name, ID, GitHub username, and in charge activity for your team. (Point: 5)*\n",
    "\n",
    "No | Name | ID | GitHub username | In charge activity\n",
    ":-: | :- | :-: | :- | :-\n",
    "1 | Darell Timothy Tarigan | 10222014 | [DarellTim](https://github.com/DarellTim) | YouTube presenation video\n",
    "2 | Izzah Huwaidah | 10222040 | [IzzahHuwaidah](https://github.com/IzzahHuwaidah) | Notebook finalization\n",
    "3 | Azwa Aliyah Zaki | 10222080 | [Alivican](https://github.com/Alivican) | Discussion on GitHub issues\n",
    "4 | Ashma Nisa Sholihah Adma  | 10222091 | [ashmanisaa](https://github.com/ashmanisaa) | Slide on OSF"
   ]
  },
  {
   "cell_type": "markdown",
   "id": "fd37f767-fd5d-48c0-baf9-7f7ba084932d",
   "metadata": {},
   "source": [
    "## abstract\n",
    "ini abstrak\n",
    "*Write information about your work, method, results, and conclusion in brief, not more that 100 words. (Point: 5)*"
   ]
  },
  {
   "cell_type": "markdown",
   "id": "cd42485c-ffbe-4400-b2a8-9e0fe0a7d5c6",
   "metadata": {},
   "source": [
    "## background\n",
    "*Write purpose of your work, problem to solve, current state of similar work, and include at least four references. (Point: 5)*"
   ]
  },
  {
   "cell_type": "markdown",
   "id": "5ab40a4c-c42d-4472-886c-02910aeef822",
   "metadata": {},
   "source": [
    "## method\n",
    "*Write flowchart, algorithm, code, libraries, dependencies, platform, software, and any infomration that help others to reproduce your work. Include equations and figures if necessary. (Point: 10)*"
   ]
  },
  {
   "cell_type": "code",
   "execution_count": 2,
   "id": "d470c35c",
   "metadata": {},
   "outputs": [],
   "source": [
    "import pandas as pd\n",
    "import geopandas as gpd\n",
    "import matplotlib.pyplot as plt\n",
    "import seaborn as sns\n",
    "import numpy as np\n",
    "from scipy.interpolate import griddata\n",
    "from shapely.geometry import Point"
   ]
  },
  {
   "cell_type": "code",
   "execution_count": null,
   "id": "120e25ee",
   "metadata": {},
   "outputs": [
    {
     "ename": "",
     "evalue": "",
     "output_type": "error",
     "traceback": [
      "\u001b[1;31mThe kernel failed to start as a dll could not be loaded.\n",
      "\u001b[1;31mClick <a href='https://aka.ms/kernelFailuresDllLoad'>here</a> for more info."
     ]
    }
   ],
   "source": [
    "# Ganti dengan path file Excel yang ada di Google Drive\n",
    "file_2020 = 'Data/ISPU 2020.xlsx'\n",
    "file_2021 = 'Data/ISPU 2021.xlsx'\n",
    "file_2022 = 'Data/ISPU 2022.xlsx'\n",
    "file_2023 = 'Data/ISPU 2023.xlsx'\n",
    "file_trans = 'Data/Jumlah Kendaraan Bermotor 2020-2023.xlsx'\n",
    "file_mean_ispu = '/content/drive/My Drive/RBL Pemodelan/Rata-rata_ISPU_per_Tahun.xlsx'\n",
    "\n",
    "# Baca file Excel dari Google Drive\n",
    "df_2020 = pd.read_excel(file_2020)\n",
    "df_2021 = pd.read_excel(file_2021)\n",
    "df_2022 = pd.read_excel(file_2022)\n",
    "df_2023 = pd.read_excel(file_2023)\n",
    "df_trans = pd.read_excel(file_trans)\n",
    "df_mean = pd.read_excel(file_mean_ispu)\n",
    "\n",
    "df_2020['tahun'] = 2020\n",
    "df_2021['tahun'] = 2021\n",
    "df_2022['tahun'] = 2022\n",
    "df_2023['tahun'] = 2023\n",
    "\n",
    "# Gabungkan semua data menjadi satu DataFrame\n",
    "df = pd.concat([df_2020, df_2021, df_2022, df_2023])\n",
    "\n",
    "# Pastikan semua kolom numerik memiliki tipe data float, dan ubah jika tidak sesuai\n",
    "numeric_columns = ['pm_10', 'so2', 'co', 'o3', 'no2']\n",
    "for col in numeric_columns:\n",
    "    df[col] = pd.to_numeric(df[col], errors='coerce')  # Mengubah ke numerik, non-numerik jadi NaN\n",
    "\n",
    "\n",
    "# Menghitung rata-rata tiap parameter per tahun (mengabaikan NaN)\n",
    "rata_rata_tahunan = df.groupby('tahun')[numeric_columns].mean()\n",
    "\n",
    "# Menampilkan hasil rata-rata\n",
    "print(\"Rata-rata Parameter ISPU per Tahun:\")\n",
    "print(rata_rata_tahunan)"
   ]
  },
  {
   "cell_type": "code",
   "execution_count": null,
   "id": "a5c31154",
   "metadata": {},
   "outputs": [
    {
     "ename": "",
     "evalue": "",
     "output_type": "error",
     "traceback": [
      "\u001b[1;31mThe kernel failed to start as a dll could not be loaded.\n",
      "\u001b[1;31mClick <a href='https://aka.ms/kernelFailuresDllLoad'>here</a> for more info."
     ]
    }
   ],
   "source": [
    "import pandas as pd\n",
    "import geopandas as gpd\n",
    "import matplotlib.pyplot as plt\n",
    "import seaborn as sns\n",
    "from google.colab import drive\n",
    "import numpy as np\n",
    "from scipy.interpolate import griddata\n",
    "from shapely.geometry import Point"
   ]
  },
  {
   "cell_type": "markdown",
   "id": "66972a47-a204-42ca-be1a-8cd824b52fd9",
   "metadata": {},
   "source": [
    "## results and dicussion\n",
    "*Write results of your work and discuss whether the purpose of the work has already achived or not. You can add also unsolved problem relate to the work. Include charts ond other visual elements here. You can also use tables. (Point: 10)*"
   ]
  },
  {
   "cell_type": "markdown",
   "id": "0c9eb67a-9c61-409a-8d3b-39964b2244b0",
   "metadata": {},
   "source": [
    "## conclusion\n",
    "*Write conclusion of the work, which differs your work with others. Include also idea for future work. (Point: 5)*"
   ]
  },
  {
   "cell_type": "markdown",
   "id": "c8b857f6-92f6-47ea-ae89-35ea67056461",
   "metadata": {},
   "source": [
    "## references\n",
    "*Include at least four references from journals, books, manuals, blogs, websites, or other resources. Use standard format for references. (Point: 5)*"
   ]
  },
  {
   "cell_type": "code",
   "execution_count": null,
   "id": "9f7197e2-abb9-4ab9-93fc-b99a0922fd0c",
   "metadata": {},
   "outputs": [],
   "source": []
  }
 ],
 "metadata": {
  "kernelspec": {
   "display_name": "Python 3",
   "language": "python",
   "name": "python3"
  },
  "language_info": {
   "codemirror_mode": {
    "name": "ipython",
    "version": 3
   },
   "file_extension": ".py",
   "mimetype": "text/x-python",
   "name": "python",
   "nbconvert_exporter": "python",
   "pygments_lexer": "ipython3",
   "version": "3.12.7"
  }
 },
 "nbformat": 4,
 "nbformat_minor": 5
}
